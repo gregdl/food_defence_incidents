{
 "metadata": {
  "name": ""
 },
 "nbformat": 3,
 "nbformat_minor": 0,
 "worksheets": [
  {
   "cells": [
    {
     "cell_type": "code",
     "collapsed": false,
     "input": [
      "%matplotlib inline\n",
      "\n",
      "import matplotlib.pyplot as plt\n",
      "import pandas as pd\n",
      "import numpy as np\n",
      "\n",
      "#tell pandas to display wide tables as pretty HTML tables\n",
      "pd.set_option('display.width', 500)\n",
      "pd.set_option('display.max_columns', 100)\n",
      "\n",
      "def remove_border(axes=None, top=False, right=False, left=True, bottom=True):\n",
      "    \"\"\"\n",
      "    Minimize chartjunk by stripping out unnecesasry plot borders and axis ticks\n",
      "    \n",
      "    The top/right/left/bottom keywords toggle whether the corresponding plot border is drawn\n",
      "    \"\"\"\n",
      "    ax = axes or plt.gca()\n",
      "    ax.spines['top'].set_visible(top)\n",
      "    ax.spines['right'].set_visible(right)\n",
      "    ax.spines['left'].set_visible(left)\n",
      "    ax.spines['bottom'].set_visible(bottom)\n",
      "    \n",
      "    #turn off all ticks\n",
      "    ax.yaxis.set_ticks_position('none')\n",
      "    ax.xaxis.set_ticks_position('none')\n",
      "    \n",
      "    #now re-enable visibles\n",
      "    if top:\n",
      "        ax.xaxis.tick_top()\n",
      "    if bottom:\n",
      "        ax.xaxis.tick_bottom()\n",
      "    if left:\n",
      "        ax.yaxis.tick_left()\n",
      "    if right:\n",
      "        ax.yaxis.tick_right()"
     ],
     "language": "python",
     "metadata": {},
     "outputs": [],
     "prompt_number": 1
    },
    {
     "cell_type": "code",
     "collapsed": false,
     "input": [
      "!head /Users/gregdl/oldresearch/food_defence_incidents/data/food_defence_incidents.csv"
     ],
     "language": "python",
     "metadata": {},
     "outputs": [
      {
       "output_type": "stream",
       "stream": "stdout",
       "text": [
        "Date,Agent,Place,Type,Deaths,T-I,Description / Reference,Source\r\n",
        "1952,Thallium,Australia,Chemical,0,C,While Veronica Mabel Monty admitted to poisoning her son-in-law the rugby league star Bobby Lulham she was acquitted at trial. ,\" Clair Scrine \"\"'More Deadly Than the Male' The Sexual Politics of Female Poisonings: Trials of the Thallium Women\"\" Limina Journal (Univ. of Western Australia) Vol.8 2002 pp. 127-143; Richard Guilliatt \"\"I Smell a Rat\"\" Sydney Morning Herald (Australia) October 19 2002\"\r\n",
        "1952,Thallium,Australia,Chemical,1,C,Ruby Norton killed her daughter's fianc\u00e9e. ,\" Clair Scrine \"\"'More Deadly Than the Male' The Sexual Politics of Female Poisonings: Trials of the Thallium Women\"\" Limina Journal (Univ. of Western Australia) Vol.8 2002 pp. 127-143; Richard Guilliatt \"\"I Smell a Rat\"\" Sydney Morning Herald (Australia) October 19 2002\"\r\n",
        "1952,Thallium,Australia,Chemical,2,C,\"Yvonne Fletcher killed first husband in 1948 second in 1952 by putting a rat poison containing thallium (\"\"Thall-Rat\"\") in their food. \",\" Clair Scrine \"\"'More Deadly Than the Male' The Sexual Politics of Female Poisonings: Trials of the Thallium Women\"\" Limina Journal (Univ. of Western Australia) Vol.8 2002 pp. 127-143; Richard Guilliatt \"\"I Smell a Rat\"\" Sydney Morning Herald (Australia) October 19 2002\"\r\n",
        "1953,Thallium,Australia,Chemical,0,C,Beryl Hague put rat poison containing thallium into her husband's tea. ,\" Clair Scrine \"\"'More Deadly Than the Male' The Sexual Politics of Female Poisonings: Trials of the Thallium Women\"\" Limina Journal (Univ. of Western Australia) Vol.8 2002 pp. 127-143; Richard Guilliatt \"\"I Smell a Rat\"\" Sydney Morning Herald (Australia) October 19 2002\"\r\n",
        "1953,Thallium,Australia,Chemical,4,C,Caroline Grills was another tea-spiking poisoner.,\" Clair Scrine \"\"'More Deadly Than the Male' The Sexual Politics of Female Poisonings: Trials of the Thallium Women\"\" Limina Journal (Univ. of Western Australia) Vol.8 2002 pp. 127-143; Richard Guilliatt \"\"I Smell a Rat\"\" Sydney Morning Herald (Australia) October 19 2002\"\r\n",
        "1954,Parathion,Germany ,Chemical,1,C,Christa Lehmann laced chocolates with insecticide-containing parathion killing her neighbour\u2019s daughter and dog. , John Harris Trestrail III Forensic Science and Medicine: Criminal Poisoning (2nd Ed.) Humana Press.\r\n",
        "1954,Rat Poison,USA,Chemical,11,C,\"Nancy Hazle aka \"\"Nannie Doss\"\". A serial killer active between the 1920s - 1954 she used arsenic to kill four of her five husbands her mother two children two sisters and a nephew. \",\" The New York Times \"\"Woman Admits Killing 4; Grandmother 49 Says She Poisoned 4 of 5 Husbands\"\" November 29 1954; Wayne Howell \"\"Arsenic's Long History\"\" Herald Sun (Melbourne Australia) May 10 2002\"\r\n",
        "1955,Thallium,Australia,Chemical,1,C,Aileen Smith murdered her husband. ,\" Clair Scrine \"\"'More Deadly Than the Male' The Sexual Politics of Female Poisonings: Trials of the Thallium Women\"\" Limina Journal (Univ. of Western Australia) Vol.8 2002 pp. 127-143\"\r\n",
        "1957,Thallium,West Germany,Chemical,0,S,Nikolai Khokhlov a KGB agent who defected had his coffee poisoned with thallium at a conference in Frankfurt; the KGB was suspected of involvement. ,\" The New York Times \"\"Russian Defector Is Poisoned\"\" September 28 1957; Ben McIntyre \"\"The spy poisoned by the KGB - but who lived to tell the tale\"\" The Times (London) December 1 2006\"\r\n"
       ]
      }
     ],
     "prompt_number": 2
    },
    {
     "cell_type": "code",
     "collapsed": false,
     "input": [
      "names = ['Date', 'Agent', 'Place', 'Type', 'Deaths','T-I','Description','Source']"
     ],
     "language": "python",
     "metadata": {},
     "outputs": [],
     "prompt_number": 3
    },
    {
     "cell_type": "code",
     "collapsed": false,
     "input": [
      "data = pd.read_csv('/Users/gregdl/oldresearch/food_defence_incidents/data/food_defence_incidents.csv', delimiter='\\t')"
     ],
     "language": "python",
     "metadata": {},
     "outputs": [],
     "prompt_number": 11
    },
    {
     "cell_type": "code",
     "collapsed": false,
     "input": [
      "food = 'Date,Agent,Place,Type,Deaths,T-I,Description / Reference,Source'"
     ],
     "language": "python",
     "metadata": {},
     "outputs": [],
     "prompt_number": 14
    },
    {
     "cell_type": "code",
     "collapsed": false,
     "input": [
      "print \"Number of rows: %i\" % data.shape[0]\n",
      "data.head()  # print the first 5 rows"
     ],
     "language": "python",
     "metadata": {},
     "outputs": [
      {
       "output_type": "stream",
       "stream": "stdout",
       "text": [
        "Number of rows: 362\n"
       ]
      },
      {
       "html": [
        "<div style=\"max-height:1000px;max-width:1500px;overflow:auto;\">\n",
        "<table border=\"1\" class=\"dataframe\">\n",
        "  <thead>\n",
        "    <tr style=\"text-align: right;\">\n",
        "      <th></th>\n",
        "      <th>Date,Agent,Place,Type,Deaths,T-I,Description / Reference,Source</th>\n",
        "    </tr>\n",
        "  </thead>\n",
        "  <tbody>\n",
        "    <tr>\n",
        "      <th>0</th>\n",
        "      <td> 1952,Thallium,Australia,Chemical,0,C,While Ver...</td>\n",
        "    </tr>\n",
        "    <tr>\n",
        "      <th>1</th>\n",
        "      <td> 1952,Thallium,Australia,Chemical,1,C,Ruby Nort...</td>\n",
        "    </tr>\n",
        "    <tr>\n",
        "      <th>2</th>\n",
        "      <td> 1952,Thallium,Australia,Chemical,2,C,\"Yvonne F...</td>\n",
        "    </tr>\n",
        "    <tr>\n",
        "      <th>3</th>\n",
        "      <td> 1953,Thallium,Australia,Chemical,0,C,Beryl Hag...</td>\n",
        "    </tr>\n",
        "    <tr>\n",
        "      <th>4</th>\n",
        "      <td> 1953,Thallium,Australia,Chemical,4,C,Caroline ...</td>\n",
        "    </tr>\n",
        "  </tbody>\n",
        "</table>\n",
        "</div>"
       ],
       "metadata": {},
       "output_type": "pyout",
       "prompt_number": 15,
       "text": [
        "  Date,Agent,Place,Type,Deaths,T-I,Description / Reference,Source\n",
        "0  1952,Thallium,Australia,Chemical,0,C,While Ver...             \n",
        "1  1952,Thallium,Australia,Chemical,1,C,Ruby Nort...             \n",
        "2  1952,Thallium,Australia,Chemical,2,C,\"Yvonne F...             \n",
        "3  1953,Thallium,Australia,Chemical,0,C,Beryl Hag...             \n",
        "4  1953,Thallium,Australia,Chemical,4,C,Caroline ...             "
       ]
      }
     ],
     "prompt_number": 15
    },
    {
     "cell_type": "code",
     "collapsed": false,
     "input": [
      "food = set()\n",
      "for m in data.food:\n",
      "    food.update(g for g in m.split(','))\n",
      "food = sorted(food)\n",
      "    \n",
      "data.head()"
     ],
     "language": "python",
     "metadata": {},
     "outputs": [
      {
       "ename": "AttributeError",
       "evalue": "'DataFrame' object has no attribute 'food'",
       "output_type": "pyerr",
       "traceback": [
        "\u001b[0;31m---------------------------------------------------------------------------\u001b[0m\n\u001b[0;31mAttributeError\u001b[0m                            Traceback (most recent call last)",
        "\u001b[0;32m<ipython-input-17-edf5b3c37606>\u001b[0m in \u001b[0;36m<module>\u001b[0;34m()\u001b[0m\n\u001b[1;32m      1\u001b[0m \u001b[0mfood\u001b[0m \u001b[0;34m=\u001b[0m \u001b[0mset\u001b[0m\u001b[0;34m(\u001b[0m\u001b[0;34m)\u001b[0m\u001b[0;34m\u001b[0m\u001b[0m\n\u001b[0;32m----> 2\u001b[0;31m \u001b[0;32mfor\u001b[0m \u001b[0mm\u001b[0m \u001b[0;32min\u001b[0m \u001b[0mdata\u001b[0m\u001b[0;34m.\u001b[0m\u001b[0mfood\u001b[0m\u001b[0;34m:\u001b[0m\u001b[0;34m\u001b[0m\u001b[0m\n\u001b[0m\u001b[1;32m      3\u001b[0m     \u001b[0mfood\u001b[0m\u001b[0;34m.\u001b[0m\u001b[0mupdate\u001b[0m\u001b[0;34m(\u001b[0m\u001b[0mg\u001b[0m \u001b[0;32mfor\u001b[0m \u001b[0mg\u001b[0m \u001b[0;32min\u001b[0m \u001b[0mm\u001b[0m\u001b[0;34m.\u001b[0m\u001b[0msplit\u001b[0m\u001b[0;34m(\u001b[0m\u001b[0;34m','\u001b[0m\u001b[0;34m)\u001b[0m\u001b[0;34m)\u001b[0m\u001b[0;34m\u001b[0m\u001b[0m\n\u001b[1;32m      4\u001b[0m \u001b[0mfood\u001b[0m \u001b[0;34m=\u001b[0m \u001b[0msorted\u001b[0m\u001b[0;34m(\u001b[0m\u001b[0mfood\u001b[0m\u001b[0;34m)\u001b[0m\u001b[0;34m\u001b[0m\u001b[0m\n\u001b[1;32m      5\u001b[0m \u001b[0;34m\u001b[0m\u001b[0m\n",
        "\u001b[0;32m/Users/gregdl/anaconda/python.app/Contents/lib/python2.7/site-packages/pandas/core/frame.pyc\u001b[0m in \u001b[0;36m__getattr__\u001b[0;34m(self, name)\u001b[0m\n\u001b[1;32m   2086\u001b[0m             \u001b[0;32mreturn\u001b[0m \u001b[0mself\u001b[0m\u001b[0;34m[\u001b[0m\u001b[0mname\u001b[0m\u001b[0;34m]\u001b[0m\u001b[0;34m\u001b[0m\u001b[0m\n\u001b[1;32m   2087\u001b[0m         raise AttributeError(\"'%s' object has no attribute '%s'\" %\n\u001b[0;32m-> 2088\u001b[0;31m                              (type(self).__name__, name))\n\u001b[0m\u001b[1;32m   2089\u001b[0m \u001b[0;34m\u001b[0m\u001b[0m\n\u001b[1;32m   2090\u001b[0m     \u001b[0;32mdef\u001b[0m \u001b[0m__setattr__\u001b[0m\u001b[0;34m(\u001b[0m\u001b[0mself\u001b[0m\u001b[0;34m,\u001b[0m \u001b[0mname\u001b[0m\u001b[0;34m,\u001b[0m \u001b[0mvalue\u001b[0m\u001b[0;34m)\u001b[0m\u001b[0;34m:\u001b[0m\u001b[0;34m\u001b[0m\u001b[0m\n",
        "\u001b[0;31mAttributeError\u001b[0m: 'DataFrame' object has no attribute 'food'"
       ]
      }
     ],
     "prompt_number": 17
    },
    {
     "cell_type": "code",
     "collapsed": false,
     "input": [],
     "language": "python",
     "metadata": {},
     "outputs": []
    }
   ],
   "metadata": {}
  }
 ]
}